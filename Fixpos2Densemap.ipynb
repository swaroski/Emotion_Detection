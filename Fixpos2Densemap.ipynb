'''
This code defines two functions: GaussianMask and Fixpos2Densemap.

The GaussianMask function generates a 2D Gaussian mask with a specified size, standard deviation, and center. It takes the following arguments:

sizex: The width of the mask
sizey: The height of the mask
sigma: The standard deviation of the Gaussian distribution (optional, default is 33)
center: The center of the Gaussian distribution (optional, default is the center of the mask)
fix: The maximum value of the Gaussian distribution (optional, default is 1)
The function returns a 2D numpy array with the values of the Gaussian mask.

The Fixpos2Densemap function generates a heatmap from a fixation array and an optional image file. It takes the following arguments:

fix_arr: A 2D numpy array with the fixations data, in the form num_subjects x 3 (x, y, fixation)
width: The width of the output heatmap image
height: The height of the output heatmap image
imgfile: An optional image file (default is None)
alpha: The merge rate between the image file and the heatmap (optional, default is 0.5)
threshold: The threshold for the heatmap values (optional, default is 10)
The function returns a 2D numpy array with the values of the heatmap, and also displays the heatmap using OpenCV's applyColorMap function.
'''


{
 "cells": [
  {
   "cell_type": "code",
   "execution_count": 1,
   "metadata": {},
   "outputs": [
    {
     "name": "stderr",
     "output_type": "stream",
     "text": [
      "100%|███████████████████████████████████████████████████████████████████████████████████████████| 40/40 [00:00<00:00, 93.01it/s]\n"
     ]
    }
   ],
   "source": [
    "import cv2\n",
    "import numpy as np\n",
    "from tqdm import tqdm\n",
    "\n",
    "def GaussianMask(sizex,sizey, sigma=33, center=None,fix=1):\n",
    "    \"\"\"\n",
    "    sizex  : mask width\n",
    "    sizey  : mask height\n",
    "    sigma  : gaussian Sd\n",
    "    center : gaussian mean\n",
    "    fix    : gaussian max\n",
    "    return gaussian mask\n",
    "    \"\"\"\n",
    "    x = np.arange(0, sizex, 1, float)\n",
    "    y = np.arange(0, sizey, 1, float)\n",
    "    x, y = np.meshgrid(x,y)\n",
    "    \n",
    "    if center is None:\n",
    "        x0 = sizex // 2\n",
    "        y0 = sizey // 2\n",
    "    else:\n",
    "        if np.isnan(center[0])==False and np.isnan(center[1])==False:            \n",
    "            x0 = center[0]\n",
    "            y0 = center[1]        \n",
    "        else:\n",
    "            return np.zeros((sizey,sizex))\n",
    "\n",
    "    return fix*np.exp(-4*np.log(2) * ((x-x0)**2 + (y-y0)**2) / sigma**2)\n",
    "\n",
    "def Fixpos2Densemap(fix_arr, width, height, imgfile, alpha=0.5, threshold=10):\n",
    "    \"\"\"\n",
    "    fix_arr   : fixation array number of subjects x 3(x,y,fixation)\n",
    "    width     : output image width\n",
    "    height    : output image height\n",
    "    imgfile   : image file (optional)\n",
    "    alpha     : marge rate imgfile and heatmap (optional)\n",
    "    threshold : heatmap threshold(0~255)\n",
    "    return heatmap \n",
    "    \"\"\"\n",
    "    \n",
    "    heatmap = np.zeros((H,W), np.float32)\n",
    "    for n_subject in tqdm(range(fix_arr.shape[0])):\n",
    "        heatmap += GaussianMask(W, H, 33, (fix_arr[n_subject,0],fix_arr[n_subject,1]),\n",
    "                                fix_arr[n_subject,2])\n",
    "\n",
    "    # Normalization\n",
    "    heatmap = heatmap/np.amax(heatmap)\n",
    "    heatmap = heatmap*255\n",
    "    heatmap = heatmap.astype(\"uint8\")\n",
    "    \n",
    "    if imgfile.any():\n",
    "        # Resize heatmap to imgfile shape \n",
    "        h, w, _ = imgfile.shape\n",
    "        heatmap = cv2.resize(heatmap, (w, h))\n",
    "        heatmap_color = cv2.applyColorMap(heatmap, cv2.COLORMAP_JET)\n",
    "        \n",
    "        # Create mask\n",
    "        mask = np.where(heatmap<=threshold, 1, 0)\n",
    "        mask = np.reshape(mask, (h, w, 1))\n",
    "        mask = np.repeat(mask, 3, axis=2)\n",
    "\n",
    "        # Marge images\n",
    "        marge = imgfile*mask + heatmap_color*(1-mask)\n",
    "        marge = marge.astype(\"uint8\")\n",
    "        marge = cv2.addWeighted(imgfile, 1-alpha, marge,alpha,0)\n",
    "        return marge\n",
    "\n",
    "    else:\n",
    "        heatmap = cv2.applyColorMap(heatmap, cv2.COLORMAP_JET)\n",
    "        return heatmap\n",
    "\n",
    "if __name__ == '__main__':\n",
    "    # Load image file\n",
    "    img = cv2.imread('sample.png')\n",
    "    \n",
    "    # Generate toy fixation data\n",
    "    # when you use, replace here with your data\n",
    "    num_subjects = 40\n",
    "    H, W, _ = img.shape\n",
    "    \n",
    "    fix_arr = np.random.randn(num_subjects,3)\n",
    "    fix_arr -= fix_arr.min()\n",
    "    fix_arr /= fix_arr.max()\n",
    "    fix_arr[:,0] *= W\n",
    "    fix_arr[:,1] *= H\n",
    "    \n",
    "    # Create heatmap\n",
    "    heatmap = Fixpos2Densemap(fix_arr, W, H, img, 0.7, 5)\n",
    "    cv2.imwrite(\"output.png\",heatmap)"
   ]
  },
  {
   "cell_type": "code",
   "execution_count": null,
   "metadata": {},
   "outputs": [],
   "source": []
  }
 ],
 "metadata": {
  "kernelspec": {
   "display_name": "Python 3",
   "language": "python",
   "name": "python3"
  },
  "language_info": {
   "codemirror_mode": {
    "name": "ipython",
    "version": 3
   },
   "file_extension": ".py",
   "mimetype": "text/x-python",
   "name": "python",
   "nbconvert_exporter": "python",
   "pygments_lexer": "ipython3",
   "version": "3.6.5"
  }
 },
 "nbformat": 4,
 "nbformat_minor": 2
}
